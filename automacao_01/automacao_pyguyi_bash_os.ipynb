{
 "cells": [
  {
   "cell_type": "markdown",
   "id": "a2c1e5af-0670-4629-a1e0-fddabefb93a2",
   "metadata": {},
   "source": [
    "# Automação:"
   ]
  },
  {
   "cell_type": "markdown",
   "id": "5413bdc7-7509-48bc-b7ac-146d16de918d",
   "metadata": {},
   "source": [
    "Nesta Aula:\n",
    "\n",
    "- Aprenderemos sobre programação desde uma pasta, um diretório de trabalho, rotas path relativas , e absolutas.\n",
    "- Veremos como buscar arquivos, também listar, apagar, copiar, mover e outras operações usuais com o sistema opracional. Bibliotecas os, glob, shutil.\n",
    "- Leitura de diversos tipos de dados: .sav,.dta, .scv, .zip\n",
    "\n",
    "Atualmente qualquer tarefa que se proponha automatizar é encontrado um aspecto de complexide\n",
    "\n",
    "- Por um lado, com a biblioteca pyautogui podemos automatizar os movimentos do mouse e do teclado. Isso dá a possibilidade de automatizar tarefas simples de forma direta.\n",
    "\n",
    "(O seguinte exemplo esta senfo executado em abiente local)"
   ]
  },
  {
   "cell_type": "markdown",
   "id": "e7c73df9-4bf6-43e8-8a06-f39f95107fcb",
   "metadata": {},
   "source": [
    "## PyautoGui\n",
    "\n",
    "documentação do PyautoGui:https://pyautogui.readthedocs.io/en/latest/\n",
    "\n",
    "``` python\n",
    "# Devolve as dimeções de uma tela\n",
    "largura, altura = pyautogui.size()\n",
    "\n",
    "# Devolve a posição autal\n",
    "Xatual, Yatual = pyautogui.position()\n",
    "\n",
    "# Mover uma coordenadas ( pixels )\n",
    "pyautogui.moveTo(100, 150)\n",
    "\n",
    "# Clickear\n",
    "pyautogui.click()\n",
    "\n",
    "# tipo de delay\n",
    "pyautogui.write('Hello world', interval=0.25)\n",
    "\n",
    "# apertar uma tela\n",
    "pyautogui.press('esc')\n",
    "pyautogui.hotkey('ctrl', 'c')\n",
    "pyautogui.locateOnscreen()\n",
    "\n",
    "```"
   ]
  },
  {
   "cell_type": "code",
   "execution_count": 1,
   "id": "f7cdfa76-4e77-4c09-9976-3786d5cb8dc8",
   "metadata": {
    "tags": []
   },
   "outputs": [
    {
     "name": "stdout",
     "output_type": "stream",
     "text": [
      "Collecting pyautogui\n",
      "  Downloading PyAutoGUI-0.9.53.tar.gz (59 kB)\n",
      "     ---------------------------------------- 0.0/59.0 kB ? eta -:--:--\n",
      "     ---------------------------------------- 59.0/59.0 kB 3.0 MB/s eta 0:00:00\n",
      "  Preparing metadata (setup.py): started\n",
      "  Preparing metadata (setup.py): finished with status 'done'\n",
      "Collecting pymsgbox\n",
      "  Downloading PyMsgBox-1.0.9.tar.gz (18 kB)\n",
      "  Installing build dependencies: started\n",
      "  Installing build dependencies: finished with status 'done'\n",
      "  Getting requirements to build wheel: started\n",
      "  Getting requirements to build wheel: finished with status 'done'\n",
      "  Preparing metadata (pyproject.toml): started\n",
      "  Preparing metadata (pyproject.toml): finished with status 'done'\n",
      "Collecting PyTweening>=1.0.1\n",
      "  Downloading pytweening-1.0.4.tar.gz (14 kB)\n",
      "  Preparing metadata (setup.py): started\n",
      "  Preparing metadata (setup.py): finished with status 'done'\n",
      "Collecting pyscreeze>=0.1.21\n",
      "  Downloading PyScreeze-0.1.28.tar.gz (25 kB)\n",
      "  Installing build dependencies: started\n",
      "  Installing build dependencies: finished with status 'done'\n",
      "  Getting requirements to build wheel: started\n",
      "  Getting requirements to build wheel: finished with status 'done'\n",
      "  Preparing metadata (pyproject.toml): started\n",
      "  Preparing metadata (pyproject.toml): finished with status 'done'\n",
      "Collecting pygetwindow>=0.0.5\n",
      "  Downloading PyGetWindow-0.0.9.tar.gz (9.7 kB)\n",
      "  Preparing metadata (setup.py): started\n",
      "  Preparing metadata (setup.py): finished with status 'done'\n",
      "Collecting mouseinfo\n",
      "  Downloading MouseInfo-0.1.3.tar.gz (10 kB)\n",
      "  Preparing metadata (setup.py): started\n",
      "  Preparing metadata (setup.py): finished with status 'done'\n",
      "Collecting pyrect\n",
      "  Downloading PyRect-0.2.0.tar.gz (17 kB)\n",
      "  Preparing metadata (setup.py): started\n",
      "  Preparing metadata (setup.py): finished with status 'done'\n",
      "Collecting pyperclip\n",
      "  Downloading pyperclip-1.8.2.tar.gz (20 kB)\n",
      "  Preparing metadata (setup.py): started\n",
      "  Preparing metadata (setup.py): finished with status 'done'\n",
      "Building wheels for collected packages: pyautogui, pygetwindow, pyscreeze, PyTweening, mouseinfo, pymsgbox, pyperclip, pyrect\n",
      "  Building wheel for pyautogui (setup.py): started\n",
      "  Building wheel for pyautogui (setup.py): finished with status 'done'\n",
      "  Created wheel for pyautogui: filename=PyAutoGUI-0.9.53-py3-none-any.whl size=36621 sha256=9693d9d2cda8e44db5bb67e7fd9a54a4e0b9aacc5654fcc28bd99d23db96ed66\n",
      "  Stored in directory: c:\\users\\fabri\\appdata\\local\\pip\\cache\\wheels\\3c\\dc\\20\\2d6b22b4c2b8033d5567734192a11b6e10de75a3e25823c8ad\n",
      "  Building wheel for pygetwindow (setup.py): started\n",
      "  Building wheel for pygetwindow (setup.py): finished with status 'done'\n",
      "  Created wheel for pygetwindow: filename=PyGetWindow-0.0.9-py3-none-any.whl size=11079 sha256=86b4c8b376c604420e976c936e0d157be26dcc9f89bb9bd1008cc7ba5c666de4\n",
      "  Stored in directory: c:\\users\\fabri\\appdata\\local\\pip\\cache\\wheels\\07\\75\\0b\\7ca0b598eb4c21d43ba4bcc78a0538dfcf803a5997da33bc19\n",
      "  Building wheel for pyscreeze (pyproject.toml): started\n",
      "  Building wheel for pyscreeze (pyproject.toml): finished with status 'done'\n",
      "  Created wheel for pyscreeze: filename=PyScreeze-0.1.28-py3-none-any.whl size=13027 sha256=a13bdb83e45946b9d1f837e0eab160d024ee5a05deeab5e9a6d6eb1062161859\n",
      "  Stored in directory: c:\\users\\fabri\\appdata\\local\\pip\\cache\\wheels\\c2\\ff\\0d\\9a151be0029a17cb9768bb63ef85f46ecfee58f9c99b6f9416\n",
      "  Building wheel for PyTweening (setup.py): started\n",
      "  Building wheel for PyTweening (setup.py): finished with status 'done'\n",
      "  Created wheel for PyTweening: filename=pytweening-1.0.4-py3-none-any.whl size=5852 sha256=2febd0caead6c9b01a490f6a1218e3c0e32d1b43dbcbd4ce9f9a11bf237e0ac6\n",
      "  Stored in directory: c:\\users\\fabri\\appdata\\local\\pip\\cache\\wheels\\8c\\11\\e7\\063a8a65e51f0573240177d353318387e95ff330f63ca59417\n",
      "  Building wheel for mouseinfo (setup.py): started\n",
      "  Building wheel for mouseinfo (setup.py): finished with status 'done'\n",
      "  Created wheel for mouseinfo: filename=MouseInfo-0.1.3-py3-none-any.whl size=10906 sha256=f688d078bc85d0b1aa130f6e6f19462c9737ad1036c16397e05f725b61f8e169\n",
      "  Stored in directory: c:\\users\\fabri\\appdata\\local\\pip\\cache\\wheels\\20\\0b\\7f\\939ac9ff785b09951c706150537572c00123412f260a6024f3\n",
      "  Building wheel for pymsgbox (pyproject.toml): started\n",
      "  Building wheel for pymsgbox (pyproject.toml): finished with status 'done'\n",
      "  Created wheel for pymsgbox: filename=PyMsgBox-1.0.9-py3-none-any.whl size=7416 sha256=3fe0eecbfc5b25cf303f6ecc1683de4bb6d96ba4ab66041b2713ae61fa25a61f\n",
      "  Stored in directory: c:\\users\\fabri\\appdata\\local\\pip\\cache\\wheels\\85\\92\\63\\e126ee5f33d8f2ed04f96e43ef5df7270a2f331848752e8662\n",
      "  Building wheel for pyperclip (setup.py): started\n",
      "  Building wheel for pyperclip (setup.py): finished with status 'done'\n",
      "  Created wheel for pyperclip: filename=pyperclip-1.8.2-py3-none-any.whl size=11137 sha256=e34f9f8998cc58895a82906f816d0438a828c07909899f6edf95c971692cd68d\n",
      "  Stored in directory: c:\\users\\fabri\\appdata\\local\\pip\\cache\\wheels\\70\\bd\\ba\\8ae5c080c895c9360fe6e153acda2dee82527374467eae061b\n",
      "  Building wheel for pyrect (setup.py): started\n",
      "  Building wheel for pyrect (setup.py): finished with status 'done'\n",
      "  Created wheel for pyrect: filename=PyRect-0.2.0-py2.py3-none-any.whl size=11205 sha256=588767710d5f65ef0d8e9a0d5583157de75a134ff28474af560cd5e5a6a28a7c\n",
      "  Stored in directory: c:\\users\\fabri\\appdata\\local\\pip\\cache\\wheels\\c4\\e9\\fc\\b7a666dd4f9a3168fb44d643079b41d36ddab52f470707e820\n",
      "Successfully built pyautogui pygetwindow pyscreeze PyTweening mouseinfo pymsgbox pyperclip pyrect\n",
      "Installing collected packages: PyTweening, pyscreeze, pyrect, pyperclip, pymsgbox, pygetwindow, mouseinfo, pyautogui\n",
      "Successfully installed PyTweening-1.0.4 mouseinfo-0.1.3 pyautogui-0.9.53 pygetwindow-0.0.9 pymsgbox-1.0.9 pyperclip-1.8.2 pyrect-0.2.0 pyscreeze-0.1.28\n"
     ]
    },
    {
     "name": "stderr",
     "output_type": "stream",
     "text": [
      "\n",
      "[notice] A new release of pip is available: 23.0 -> 23.0.1\n",
      "[notice] To update, run: python.exe -m pip install --upgrade pip\n"
     ]
    }
   ],
   "source": [
    "# Instalação do pyautogui\n",
    "!pip install pyautogui"
   ]
  },
  {
   "cell_type": "markdown",
   "id": "2e7c530a-1a67-437f-9fd8-3e2226ef0e10",
   "metadata": {},
   "source": [
    "---\n",
    "\n",
    "No linux, precisa instalar o aplicativo **scrot**, assim como o Tkinter:\n",
    "\n",
    "``` bash\n",
    "sudo apt-get install scrot\n",
    "\n",
    "sudo apt-get install python3-tk\n",
    "\n",
    "sudo apt-get install python3-dev\n",
    "\n",
    "```\n",
    "----\n"
   ]
  },
  {
   "cell_type": "code",
   "execution_count": 2,
   "id": "0659fd07-3b3d-4368-919b-5038263383e9",
   "metadata": {
    "tags": []
   },
   "outputs": [],
   "source": [
    "# importando bibliotecas\n",
    "from time import sleep\n",
    "import os\n",
    "import pyautogui as pygui\n",
    "import numpy as np"
   ]
  },
  {
   "cell_type": "code",
   "execution_count": 3,
   "id": "c9c049d4-ed29-4fb1-a64b-ee593163654c",
   "metadata": {
    "tags": []
   },
   "outputs": [
    {
     "name": "stdout",
     "output_type": "stream",
     "text": [
      "passou 2 segundo exatos\n"
     ]
    }
   ],
   "source": [
    "# sleep para trabalhar com o tempo \n",
    "sleep(2)\n",
    "print('passou 2 segundo exatos')"
   ]
  },
  {
   "cell_type": "code",
   "execution_count": 4,
   "id": "25bde61b-c5c8-4149-8f0c-e539cfa27169",
   "metadata": {
    "tags": []
   },
   "outputs": [],
   "source": [
    "def quadrado(l):\n",
    "    pygui.drag(l, 0, duration=1)\n",
    "    pygui.drag(0, l, duration=1)\n",
    "    pygui.drag(-l, 0, duration=1)\n",
    "    pygui.drag(0, -l, duration=1)"
   ]
  },
  {
   "cell_type": "code",
   "execution_count": 5,
   "id": "02a65785-0253-43e0-81dc-b58edb8f34f5",
   "metadata": {
    "tags": []
   },
   "outputs": [],
   "source": [
    "quadrado(200)"
   ]
  },
  {
   "cell_type": "code",
   "execution_count": 6,
   "id": "1e60af57-925a-4597-8ee5-35739f8dae38",
   "metadata": {
    "tags": []
   },
   "outputs": [],
   "source": [
    "url = r'https://www.lanacion.com.ar/'"
   ]
  },
  {
   "cell_type": "code",
   "execution_count": 7,
   "id": "74e6b085",
   "metadata": {
    "tags": []
   },
   "outputs": [],
   "source": [
    "sleep(2)\n",
    "pygui.hotkey('ctrl','t')\n",
    "sleep(2)\n",
    "pygui.write(url)\n",
    "sleep(2)\n",
    "pygui.press('enter')"
   ]
  },
  {
   "cell_type": "code",
   "execution_count": 8,
   "id": "fa90cbf7",
   "metadata": {
    "tags": []
   },
   "outputs": [],
   "source": [
    "def abrir_paint():\n",
    "    #Windows\n",
    "    os.system('start mspaint.exe')\n",
    "    sleep(1)\n",
    "    S = pygui.size()\n",
    "    pygui.moveTo(S[0]//2, S[1]//2)"
   ]
  },
  {
   "cell_type": "code",
   "execution_count": 21,
   "id": "3a6ac4ad-a726-41c7-8239-973f7e811a92",
   "metadata": {
    "tags": []
   },
   "outputs": [],
   "source": [
    "def quadrado_espiral(l, ratio=0.9):\n",
    "    pygui.move(-l//2, -l//2, duration=0.1)\n",
    "    for i in range(50):\n",
    "        l = l * ratio\n",
    "        pygui.drag(l, 0, duration=0.1)\n",
    "        l = l * ratio\n",
    "        pygui.drag(0, l, duration=0.1)\n",
    "        l = l * ratio\n",
    "        pygui.drag(-l, 0, duration=0.1)\n",
    "        l = l * ratio\n",
    "        pygui.drag(0, -l, duration=0.1)\n",
    "        if l < 5:\n",
    "            break"
   ]
  },
  {
   "cell_type": "code",
   "execution_count": 22,
   "id": "59eb9bfa-6dd2-4a52-9031-606f03a4064a",
   "metadata": {
    "tags": []
   },
   "outputs": [],
   "source": [
    "sleep(2)\n",
    "abrir_paint()\n",
    "quadrado_espiral(300)"
   ]
  },
  {
   "cell_type": "markdown",
   "id": "5e0f5f1d-636a-441b-a064-d6f305bdc5c5",
   "metadata": {},
   "source": [
    "Ocasionalmente há alguns casos de uso que encontramos obstaculos:\n",
    "\n",
    "- Fragil em mudanças\n",
    "- método bruto\n",
    "- somente para tarefas essenciais \n",
    "\n",
    "Se encontra os mesmos dilemas en web scraping, em extremo consumo de APIs em outro automação de navegador."
   ]
  },
  {
   "cell_type": "markdown",
   "id": "00f86154-522d-4168-9ea4-add3f8ecb66c",
   "metadata": {},
   "source": [
    "## Bash e OS"
   ]
  },
  {
   "cell_type": "markdown",
   "id": "6d04ba1b-8546-496c-9668-cd527cb47571",
   "metadata": {},
   "source": [
    "### Interação com o Sistemas Operacionais"
   ]
  },
  {
   "cell_type": "code",
   "execution_count": 23,
   "id": "44cd5654-a7e1-4a1c-9ed4-1853097b5d23",
   "metadata": {
    "tags": []
   },
   "outputs": [
    {
     "name": "stdout",
     "output_type": "stream",
     "text": [
      "/d/franklin/automacao-python/automacao_01\n"
     ]
    }
   ],
   "source": [
    "# Com ! enviamos um comando ao terminal do sismtema operacional\n",
    "!pwd"
   ]
  },
  {
   "cell_type": "code",
   "execution_count": 24,
   "id": "42a8894e-d4ae-4440-80a4-81fa69e3376f",
   "metadata": {
    "tags": []
   },
   "outputs": [
    {
     "name": "stdout",
     "output_type": "stream",
     "text": [
      "automacao_pyguyi_bash_os.ipynb\n"
     ]
    }
   ],
   "source": [
    "!ls"
   ]
  },
  {
   "cell_type": "markdown",
   "id": "fe4ac48d-fe38-490c-afae-5ead002b603d",
   "metadata": {},
   "source": [
    "Alguns comandos para saber:\n",
    "\n",
    "- pwd: \"print working diretory\"\n",
    "- ls: lista diretocio atual\n",
    "- wget: para descarregar arquivos"
   ]
  },
  {
   "cell_type": "code",
   "execution_count": 25,
   "id": "50d5b07c-8468-4717-aa51-ed31d808044f",
   "metadata": {
    "tags": []
   },
   "outputs": [
    {
     "name": "stderr",
     "output_type": "stream",
     "text": [
      "'wget' nÃ£o Ã© reconhecido como um comando interno\n",
      "ou externo, um programa operÃ¡vel ou um arquivo em lotes.\n"
     ]
    }
   ],
   "source": [
    "#  http://microdatos.dane.gov.co/index.php/catalog/472/get_microdata\n",
    "!wget O Expo_2021.zip https://unket.s3.sa-east-1.amazonaws.com/data/Expo_2021.zip"
   ]
  },
  {
   "cell_type": "code",
   "execution_count": null,
   "id": "8871f438-5f41-4cf6-bb17-22dd83121566",
   "metadata": {},
   "outputs": [],
   "source": []
  }
 ],
 "metadata": {
  "kernelspec": {
   "display_name": "Python 3 (ipykernel)",
   "language": "python",
   "name": "python3"
  },
  "language_info": {
   "codemirror_mode": {
    "name": "ipython",
    "version": 3
   },
   "file_extension": ".py",
   "mimetype": "text/x-python",
   "name": "python",
   "nbconvert_exporter": "python",
   "pygments_lexer": "ipython3",
   "version": "3.11.2"
  },
  "vscode": {
   "interpreter": {
    "hash": "e12e25aa6d0e8e9f68003fad2e6b491e28a733d8af07d8bdd4d508fcca85483d"
   }
  }
 },
 "nbformat": 4,
 "nbformat_minor": 5
}
