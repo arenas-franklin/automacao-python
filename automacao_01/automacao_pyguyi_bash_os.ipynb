{
 "cells": [
  {
   "cell_type": "markdown",
   "id": "a2c1e5af-0670-4629-a1e0-fddabefb93a2",
   "metadata": {},
   "source": [
    "# Automação:"
   ]
  },
  {
   "cell_type": "markdown",
   "id": "5413bdc7-7509-48bc-b7ac-146d16de918d",
   "metadata": {},
   "source": [
    "Nesta Aula:\n",
    "\n",
    "- Aprenderemos sobre programação desde uma pasta, um diretório de trabalho, rotas path relativas , e absolutas.\n",
    "- Veremos como buscar arquivos, também listar, apagar, copiar, mover e outras operações usuais com o sistema opracional. Bibliotecas os, glob, shutil.\n",
    "- Leitura de diversos tipos de dados: .sav,.dta, .scv, .zip\n",
    "\n",
    "Atualmente qualquer tarefa que se proponha automatizar é encontrado um aspecto de complexide\n",
    "\n",
    "- Por um lado, com a biblioteca pyautogui podemos automatizar os movimentos do mouse e do teclado. Isso dá a possibilidade de automatizar tarefas simples de forma direta.\n",
    "\n",
    "(O seguinte exemplo esta senfo executado em abiente local)"
   ]
  },
  {
   "cell_type": "markdown",
   "id": "e7c73df9-4bf6-43e8-8a06-f39f95107fcb",
   "metadata": {},
   "source": [
    "## PyautoGui\n",
    "\n",
    "documentação do PyautoGui:https://pyautogui.readthedocs.io/en/latest/\n",
    "\n",
    "``` python\n",
    "# Devolve as dimeções de uma tela\n",
    "largura, altura = pyautogui.size()\n",
    "\n",
    "# Devolve a posição autal\n",
    "Xatual, Yatual = pyautogui.position()\n",
    "\n",
    "# Mover uma coordenadas ( pixels )\n",
    "pyautogui.moveTo(100, 150)\n",
    "\n",
    "# Clickear\n",
    "pyautogui.click()\n",
    "\n",
    "# tipo de delay\n",
    "pyautogui.write('Hello world', interval=0.25)\n",
    "\n",
    "# apertar uma tela\n",
    "pyautogui.press('esc')\n",
    "pyautogui.hotkey('ctrl', 'c')\n",
    "pyautogui.locateOnscreen()\n",
    "\n",
    "```"
   ]
  },
  {
   "cell_type": "code",
   "execution_count": 1,
   "id": "f7cdfa76-4e77-4c09-9976-3786d5cb8dc8",
   "metadata": {},
   "outputs": [
    {
     "name": "stdout",
     "output_type": "stream",
     "text": [
      "Collecting pyautogui\n",
      "  Downloading PyAutoGUI-0.9.53.tar.gz (59 kB)\n",
      "\u001b[2K     \u001b[38;2;114;156;31m━━━━━━━━━━━━━━━━━━━━━━━━━━━━━━━━━━━━━━━\u001b[0m \u001b[32m59.0/59.0 kB\u001b[0m \u001b[31m460.0 kB/s\u001b[0m eta \u001b[36m0:00:00\u001b[0m1m803.4 kB/s\u001b[0m eta \u001b[36m0:00:01\u001b[0m\n",
      "\u001b[?25h  Preparing metadata (setup.py) ... \u001b[?25ldone\n",
      "\u001b[?25hCollecting pymsgbox\n",
      "  Downloading PyMsgBox-1.0.9.tar.gz (18 kB)\n",
      "  Installing build dependencies ... \u001b[?25ldone\n",
      "\u001b[?25h  Getting requirements to build wheel ... \u001b[?25ldone\n",
      "\u001b[?25h  Preparing metadata (pyproject.toml) ... \u001b[?25ldone\n",
      "\u001b[?25hCollecting PyTweening>=1.0.1\n",
      "  Downloading pytweening-1.0.4.tar.gz (14 kB)\n",
      "  Preparing metadata (setup.py) ... \u001b[?25ldone\n",
      "\u001b[?25hCollecting pyscreeze>=0.1.21\n",
      "  Downloading PyScreeze-0.1.28.tar.gz (25 kB)\n",
      "  Installing build dependencies ... \u001b[?25ldone\n",
      "\u001b[?25h  Getting requirements to build wheel ... \u001b[?25ldone\n",
      "\u001b[?25h  Preparing metadata (pyproject.toml) ... \u001b[?25ldone\n",
      "\u001b[?25hCollecting pygetwindow>=0.0.5\n",
      "  Downloading PyGetWindow-0.0.9.tar.gz (9.7 kB)\n",
      "  Preparing metadata (setup.py) ... \u001b[?25ldone\n",
      "\u001b[?25hCollecting mouseinfo\n",
      "  Downloading MouseInfo-0.1.3.tar.gz (10 kB)\n",
      "  Preparing metadata (setup.py) ... \u001b[?25ldone\n",
      "\u001b[?25hCollecting python3-Xlib\n",
      "  Downloading python3-xlib-0.15.tar.gz (132 kB)\n",
      "\u001b[2K     \u001b[38;2;114;156;31m━━━━━━━━━━━━━━━━━━━━━━━━━━━━━━━━━━━━━━━\u001b[0m \u001b[32m132.8/132.8 kB\u001b[0m \u001b[31m1.1 MB/s\u001b[0m eta \u001b[36m0:00:00\u001b[0m MB/s\u001b[0m eta \u001b[36m0:00:01\u001b[0m:01\u001b[0m\n",
      "\u001b[?25h  Preparing metadata (setup.py) ... \u001b[?25ldone\n",
      "\u001b[?25hCollecting pyrect\n",
      "  Downloading PyRect-0.2.0.tar.gz (17 kB)\n",
      "  Preparing metadata (setup.py) ... \u001b[?25ldone\n",
      "\u001b[?25hCollecting pyperclip\n",
      "  Downloading pyperclip-1.8.2.tar.gz (20 kB)\n",
      "  Preparing metadata (setup.py) ... \u001b[?25ldone\n",
      "\u001b[?25hBuilding wheels for collected packages: pyautogui, pygetwindow, pyscreeze, PyTweening, mouseinfo, pymsgbox, python3-Xlib, pyperclip, pyrect\n",
      "  Building wheel for pyautogui (setup.py) ... \u001b[?25ldone\n",
      "\u001b[?25h  Created wheel for pyautogui: filename=PyAutoGUI-0.9.53-py3-none-any.whl size=36601 sha256=be740daf3b32ed07cd24d62c7ed1d54f338b747aa8e82f470085740d87c9cdf0\n",
      "  Stored in directory: /home/angelo/.cache/pip/wheels/d8/97/e4/d2edca92a87d3b5fbfb527264750a17b4ba297b9a7cab6e67f\n",
      "  Building wheel for pygetwindow (setup.py) ... \u001b[?25ldone\n",
      "\u001b[?25h  Created wheel for pygetwindow: filename=PyGetWindow-0.0.9-py3-none-any.whl size=11063 sha256=d21051bedd7e9448c5b6e68f062dacf2503904988c52bf2b0bfc37c68a5dab24\n",
      "  Stored in directory: /home/angelo/.cache/pip/wheels/44/ab/20/423c3a444793767e4e41f8377bc902f77bee212e68dcce85a5\n",
      "  Building wheel for pyscreeze (pyproject.toml) ... \u001b[?25ldone\n",
      "\u001b[?25h  Created wheel for pyscreeze: filename=PyScreeze-0.1.28-py3-none-any.whl size=13009 sha256=6a0b377a9a4bd1ebe4aa497737e82571cbd021a6f70fec04a687f98fa7a9ccf2\n",
      "  Stored in directory: /home/angelo/.cache/pip/wheels/a2/5b/86/99f1d8fac5d92de0ccb3f0d4ad15e3f4278baf75a9b0f20b93\n",
      "  Building wheel for PyTweening (setup.py) ... \u001b[?25ldone\n",
      "\u001b[?25h  Created wheel for PyTweening: filename=pytweening-1.0.4-py3-none-any.whl size=5838 sha256=71bbcbe6ecfed75a0f565e14598e2d075ae0c1132b337d0e479db1290e2d7b26\n",
      "  Stored in directory: /home/angelo/.cache/pip/wheels/a4/5d/d2/ba4c8f82163233ffaadcf383c1e34d7d92635d357d13e7b78d\n",
      "  Building wheel for mouseinfo (setup.py) ... \u001b[?25ldone\n",
      "\u001b[?25h  Created wheel for mouseinfo: filename=MouseInfo-0.1.3-py3-none-any.whl size=10891 sha256=98962903186b2181adfd113880f6bfc765c71a8e936e632cf3318edf0da7006d\n",
      "  Stored in directory: /home/angelo/.cache/pip/wheels/61/73/b9/6fb1131ab36e650206e3aa0ad7a68907b41b32ac2d4f75f543\n",
      "  Building wheel for pymsgbox (pyproject.toml) ... \u001b[?25ldone\n",
      "\u001b[?25h  Created wheel for pymsgbox: filename=PyMsgBox-1.0.9-py3-none-any.whl size=7405 sha256=45f461ca4dca68f1b522f623acf30e9cd64f7926e1a035596933ac6500b7f2c2\n",
      "  Stored in directory: /home/angelo/.cache/pip/wheels/7f/13/8c/584c519464297d9637f9cd29fd1dcdf55e2a2cab225c76a2db\n",
      "  Building wheel for python3-Xlib (setup.py) ... \u001b[?25ldone\n",
      "\u001b[?25h  Created wheel for python3-Xlib: filename=python3_xlib-0.15-py3-none-any.whl size=109501 sha256=c5be3d64bcfa920f0be37d37d81275259a8184e1eeb582ca7c8dd865763c1a06\n",
      "  Stored in directory: /home/angelo/.cache/pip/wheels/e8/f5/f4/4c7032e17a250a7327c4fa4d4807452558e04487c783bcde39\n",
      "  Building wheel for pyperclip (setup.py) ... \u001b[?25ldone\n",
      "\u001b[?25h  Created wheel for pyperclip: filename=pyperclip-1.8.2-py3-none-any.whl size=11123 sha256=d718badf8e6b035a0f0a5bde28980f7133ff221f2a1f41a9a7ffd3104242bfb4\n",
      "  Stored in directory: /home/angelo/.cache/pip/wheels/0c/09/9e/49e21a6840ef7955b06d47394afef0058f0378c0914e48b8b8\n",
      "  Building wheel for pyrect (setup.py) ... \u001b[?25ldone\n",
      "\u001b[?25h  Created wheel for pyrect: filename=PyRect-0.2.0-py2.py3-none-any.whl size=11179 sha256=71e56c50245d9f132175d0c065d312db1a11c516e378947c26f2630e55db56e8\n",
      "  Stored in directory: /home/angelo/.cache/pip/wheels/25/80/fa/27bb4a1c2e21f64ec71390489d52e57b7cc8afbe79bd595c5e\n",
      "Successfully built pyautogui pygetwindow pyscreeze PyTweening mouseinfo pymsgbox python3-Xlib pyperclip pyrect\n",
      "Installing collected packages: PyTweening, python3-Xlib, pyscreeze, pyrect, pyperclip, pymsgbox, pygetwindow, mouseinfo, pyautogui\n",
      "Successfully installed PyTweening-1.0.4 mouseinfo-0.1.3 pyautogui-0.9.53 pygetwindow-0.0.9 pymsgbox-1.0.9 pyperclip-1.8.2 pyrect-0.2.0 pyscreeze-0.1.28 python3-Xlib-0.15\n"
     ]
    }
   ],
   "source": [
    "# Instalação do pyautogui\n",
    "!pip install pyautogui"
   ]
  },
  {
   "cell_type": "markdown",
   "id": "2e7c530a-1a67-437f-9fd8-3e2226ef0e10",
   "metadata": {},
   "source": [
    "---\n",
    "\n",
    "No linux, precisa instalar o aplicativo **scrot**, assim como o Tkinter:\n",
    "\n",
    "``` bash\n",
    "sudo apt-get install scrot\n",
    "\n",
    "sudo apt-get install python3-tk\n",
    "\n",
    "sudo apt-get install python3-dev\n",
    "\n",
    "```\n",
    "----\n"
   ]
  },
  {
   "cell_type": "code",
   "execution_count": 2,
   "id": "0659fd07-3b3d-4368-919b-5038263383e9",
   "metadata": {},
   "outputs": [],
   "source": [
    "# importando bibliotecas\n",
    "from time import sleep\n",
    "import os\n",
    "import pyautogui as pygui\n",
    "import numpy as np"
   ]
  },
  {
   "cell_type": "code",
   "execution_count": 5,
   "id": "c9c049d4-ed29-4fb1-a64b-ee593163654c",
   "metadata": {},
   "outputs": [
    {
     "name": "stdout",
     "output_type": "stream",
     "text": [
      "passou 2 segundo\n"
     ]
    }
   ],
   "source": [
    "# sleep para trabalhar com o tempo \n",
    "sleep(2)\n",
    "print('passou 2 segundo')"
   ]
  },
  {
   "cell_type": "code",
   "execution_count": 7,
   "id": "25bde61b-c5c8-4149-8f0c-e539cfa27169",
   "metadata": {},
   "outputs": [],
   "source": [
    "def quadrado(l):\n",
    "    pygui.drag(l, 0, duration=1)\n",
    "    pygui.drag(0, l, duration=1)\n",
    "    pygui.drag(-l, 0, duration=1)\n",
    "    pygui.drag(0, -l, duration=1)"
   ]
  },
  {
   "cell_type": "code",
   "execution_count": 9,
   "id": "02a65785-0253-43e0-81dc-b58edb8f34f5",
   "metadata": {},
   "outputs": [],
   "source": [
    "quadrado(200)"
   ]
  },
  {
   "cell_type": "code",
   "execution_count": null,
   "id": "1e60af57-925a-4597-8ee5-35739f8dae38",
   "metadata": {},
   "outputs": [],
   "source": []
  }
 ],
 "metadata": {
  "kernelspec": {
   "display_name": "Python 3 (ipykernel)",
   "language": "python",
   "name": "python3"
  },
  "language_info": {
   "codemirror_mode": {
    "name": "ipython",
    "version": 3
   },
   "file_extension": ".py",
   "mimetype": "text/x-python",
   "name": "python",
   "nbconvert_exporter": "python",
   "pygments_lexer": "ipython3",
   "version": "3.9.13"
  }
 },
 "nbformat": 4,
 "nbformat_minor": 5
}
